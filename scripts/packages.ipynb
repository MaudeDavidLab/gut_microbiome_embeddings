{
 "cells": [
  {
   "cell_type": "code",
   "execution_count": 8,
   "metadata": {},
   "outputs": [],
   "source": [
    "import pandas as pd\n",
    "import numpy as np\n",
    "import sklearn\n",
    "import scipy\n",
    "import matplotlib\n",
    "import pickle\n",
    "import random\n",
    "import math\n",
    "import copy\n",
    "import inspect\n",
    "import re\n",
    "import importlib\n",
    "import warnings\n",
    "import collections\n",
    "import skbio"
   ]
  },
  {
   "cell_type": "code",
   "execution_count": 17,
   "metadata": {},
   "outputs": [
    {
     "name": "stdout",
     "output_type": "stream",
     "text": [
      "0.23.4\n",
      "1.16.3\n",
      "0.20.2\n",
      "1.2.0\n",
      "3.0.0\n",
      "2.2.1\n",
      "0.5.5\n"
     ]
    }
   ],
   "source": [
    "print(pd.__version__)\n",
    "print(np.__version__)\n",
    "print(sklearn.__version__)\n",
    "print(scipy.__version__)\n",
    "print(matplotlib.__version__)\n",
    "#print(pickle.__version__)\n",
    "#print(random.__version__)\n",
    "#print(math.__version__)\n",
    "#print(copy.__version__)\n",
    "#print(inspect.__version__)\n",
    "print(re.__version__)\n",
    "#print(importlib.__version__)\n",
    "#print(warnings.__version__)\n",
    "#print(collections.__version__)\n",
    "print(skbio.__version__)"
   ]
  }
 ],
 "metadata": {
  "kernelspec": {
   "display_name": "Python 3",
   "language": "python",
   "name": "python3"
  },
  "language_info": {
   "codemirror_mode": {
    "name": "ipython",
    "version": 3
   },
   "file_extension": ".py",
   "mimetype": "text/x-python",
   "name": "python",
   "nbconvert_exporter": "python",
   "pygments_lexer": "ipython3",
   "version": "3.6.4"
  }
 },
 "nbformat": 4,
 "nbformat_minor": 2
}
