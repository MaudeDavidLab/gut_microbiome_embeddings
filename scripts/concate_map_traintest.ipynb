{
 "cells": [
  {
   "cell_type": "code",
   "execution_count": 1,
   "metadata": {},
   "outputs": [],
   "source": [
    "import pandas as pd\n",
    "import numpy as np\n",
    "import helper_functions as hf\n",
    "import pickle\n",
    "import matplotlib.pyplot as plt\n",
    "from sklearn import preprocessing\n",
    "import importlib\n",
    "importlib.reload(hf)\n",
    "import math\n",
    "import copy\n",
    "from sklearn.ensemble import RandomForestClassifier\n",
    "\n",
    "\n",
    "data_dir = \"C:/Users/ctata/Documents/Lab/quality_vectors_git/data/\"\n",
    "fig_dir = \"C:/Users/ctata/Documents/Lab/quality_vectors_git/figures/\"\n",
    "\n",
    "\n",
    "#Load data\n",
    "filt = \".07\"\n",
    "f = open(data_dir + \"/AG_new/otu_train_\" + str(filt) + \".obj\", \"rb\")\n",
    "otu_train = pickle.load(f)\n",
    "f.close()\n",
    "\n",
    "f = open(data_dir + \"/AG_new/otu_test_\" + str(filt) + \".obj\", \"rb\")\n",
    "otu_test = pickle.load(f)\n",
    "f.close()\n",
    "\n",
    "f = open(data_dir + \"/AG_new/map_train_\" + str(filt) + \".obj\", \"rb\")\n",
    "map_train = pickle.load(f)\n",
    "f.close()\n",
    "\n",
    "f = open(data_dir + \"/AG_new/map_test_\" + str(filt) +  \".obj\", \"rb\")\n",
    "map_test = pickle.load(f)\n",
    "f.close()"
   ]
  },
  {
   "cell_type": "code",
   "execution_count": 6,
   "metadata": {},
   "outputs": [],
   "source": [
    "tmp = map_train.append(map_test)\n",
    "tmp.to_csv(data_dir + \"AG_new/map_filter.07_ml.csv\")"
   ]
  }
 ],
 "metadata": {
  "kernelspec": {
   "display_name": "Python 3",
   "language": "python",
   "name": "python3"
  },
  "language_info": {
   "codemirror_mode": {
    "name": "ipython",
    "version": 3
   },
   "file_extension": ".py",
   "mimetype": "text/x-python",
   "name": "python",
   "nbconvert_exporter": "python",
   "pygments_lexer": "ipython3",
   "version": "3.6.4"
  }
 },
 "nbformat": 4,
 "nbformat_minor": 2
}
