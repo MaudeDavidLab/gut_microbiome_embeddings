{
 "cells": [
  {
   "cell_type": "code",
   "execution_count": 170,
   "metadata": {},
   "outputs": [
    {
     "name": "stdout",
     "output_type": "stream",
     "text": [
      "OTU shape: (274, 2581)\n"
     ]
    }
   ],
   "source": [
    "import pandas as pd\n",
    "import numpy as np\n",
    "import helper_functions as hf\n",
    "import pickle\n",
    "import matplotlib.pyplot as plt\n",
    "import importlib\n",
    "import math\n",
    "import copy\n",
    "import re\n",
    "from sklearn import preprocessing\n",
    "from sklearn.model_selection import KFold\n",
    "from sklearn.ensemble import RandomForestClassifier\n",
    "import random\n",
    "importlib.reload(hf)\n",
    "import warnings\n",
    "warnings.filterwarnings('ignore')\n",
    "\n",
    "id_thresh = 99\n",
    "data_dir = \"C:/Users/ctata/Documents/Lab/quality_vectors_git/data/\"\n",
    "fig_dir = \"C:/Users/ctata/Documents/Lab/quality_vectors_git/figures/\"\n",
    "\n",
    "otu = pd.read_csv(data_dir + \"IBD_huttenhower/embed/seqtab_.07_100id_100dim.txt\", sep = \"\\t\")\n",
    "print(\"OTU shape: \" + str(otu.shape))"
   ]
  },
  {
   "cell_type": "code",
   "execution_count": 171,
   "metadata": {},
   "outputs": [
    {
     "name": "stdout",
     "output_type": "stream",
     "text": [
      "(197, 58)\n",
      "sample names shape: 197\n",
      "(197, 58)\n",
      "OTU shape: (197, 2581)\n",
      "Map shape: (197, 58)\n",
      "Embedded shape 97: (197, 100)\n",
      "Embedded shape 99: (197, 100)\n",
      "Embedded shape 100: (197, 100)\n"
     ]
    }
   ],
   "source": [
    "mapping = pd.read_csv(data_dir + \"IBD_huttenhower/mapping.txt\", sep = \"\\t\")\n",
    "print(mapping.shape)\n",
    "mapping.visit_study_disease_name[mapping.visit_study_disease_name == \"crohn's disease\"] = \"CD\"\n",
    "mapping.visit_study_disease_name[mapping.visit_study_disease_name == \"ulcerative colitis\"] = \"UC\"\n",
    "mapping.visit_study_disease_name[mapping.visit_study_disease_name.isna()] = \"HC\"\n",
    "\n",
    "embedded_99 = pd.read_csv(data_dir + \"IBD_huttenhower/embed/embedded_.07_99id_100dim.txt\", sep = \"\\t\")\n",
    "embedded_97 = pd.read_csv(data_dir + \"IBD_huttenhower/embed/embedded_.07_97id_100dim.txt\", sep = \"\\t\")\n",
    "embedded_100 = pd.read_csv(data_dir + \"IBD_huttenhower/embed/embedded_.07_100id_100dim.txt\", sep = \"\\t\")\n",
    "\n",
    "#sample_names = mapping.index.values[[i in otu.index.values for i in mapping.index.values]]\n",
    "sample_names = mapping.index.values[[(i in otu.index.values) for i in mapping.index.values]]\n",
    "print(\"sample names shape: \" + str(len(sample_names)))\n",
    "mapping = mapping.loc[[i in otu.index.values for i in mapping.index.values], :]\n",
    "print(mapping.shape)\n",
    "otu = otu.loc[mapping.index, :]\n",
    "embedded_97 = embedded_97.loc[mapping.index, :]\n",
    "embedded_99 = embedded_99.loc[mapping.index, :]\n",
    "embedded_100 = embedded_100.loc[mapping.index, :]\n",
    "\n",
    "print(\"OTU shape: \" + str(otu.shape))\n",
    "print(\"Map shape: \" + str(mapping.shape))\n",
    "print(\"Embedded shape 97: \" + str(embedded_97.shape))\n",
    "print(\"Embedded shape 99: \" + str(embedded_99.shape))\n",
    "print(\"Embedded shape 100: \" + str(embedded_100.shape))"
   ]
  },
  {
   "cell_type": "code",
   "execution_count": 172,
   "metadata": {},
   "outputs": [],
   "source": [
    "\n",
    "#sample_names = otu.index.values[np.sum(otu, axis = 1) < 100000]\n",
    "#otu = otu.loc[sample_names, :]\n",
    "#mapping = mapping.loc[sample_names, :]\n",
    "#embedded_97 = embedded_97.loc[sample_names, :]\n",
    "#embedded_99 = embedded_99.loc[sample_names, :]\n",
    "#embedded_100 = embedded_100.loc[sample_names, :]"
   ]
  },
  {
   "cell_type": "code",
   "execution_count": 173,
   "metadata": {},
   "outputs": [
    {
     "name": "stdout",
     "output_type": "stream",
     "text": [
      "197\n",
      "197\n",
      "(197, 58)\n",
      "(197, 100)\n",
      "(197, 2581)\n",
      "Counter({'CD': 111, 'UC': 44, 'HC': 42})\n"
     ]
    }
   ],
   "source": [
    "from collections import Counter\n",
    "print(np.sum([i == j for i,j in zip(mapping.index.values, otu.index.values)]))\n",
    "print(np.sum([i == j for i,j in zip(mapping.index.values, embedded_97.index.values)]))\n",
    "print(mapping.shape)\n",
    "print(embedded_97.shape)\n",
    "print(otu.shape)\n",
    "print(Counter(mapping.visit_study_disease_name))"
   ]
  },
  {
   "cell_type": "code",
   "execution_count": 174,
   "metadata": {},
   "outputs": [],
   "source": [
    "y_hut = [i in [\"CD\", \"UC\"] for i in mapping['visit_study_disease_name']]\n",
    "mapping_hut = mapping\n",
    "otu_hut = otu\n"
   ]
  },
  {
   "cell_type": "code",
   "execution_count": 175,
   "metadata": {},
   "outputs": [
    {
     "name": "stdout",
     "output_type": "stream",
     "text": [
      "26726\n",
      "26726\n",
      "(26726, 100)\n",
      "all good\n",
      "all good\n",
      "Tax counts shape: (5874, 26726)\n",
      "Embedded shape: (5874, 100)\n"
     ]
    }
   ],
   "source": [
    "#Process american gut data\n",
    "#Load data\n",
    "filt = \".07\"\n",
    "f = open(\"C:/Users/ctata/Documents/Lab/quality_vectors_final/data/AG_new/filter_.07//otu_train_\" + str(filt) + \".obj\", \"rb\")\n",
    "otu_train_ag = pickle.load(f)\n",
    "f.close()\n",
    "\n",
    "f = open(\"C:/Users/ctata/Documents/Lab/quality_vectors_final/data/AG_new/filter_.07//otu_test_\" + str(filt) + \".obj\", \"rb\")\n",
    "otu_test_ag = pickle.load(f)\n",
    "f.close()\n",
    "\n",
    "f = open(\"C:/Users/ctata/Documents/Lab/quality_vectors/data/AG_new/feces/map_train_strictDiag.obj\", \"rb\")\n",
    "map_train_ag = pickle.load(f)\n",
    "f.close()\n",
    "\n",
    "f = open(\"C:/Users/ctata/Documents/Lab/quality_vectors/data/AG_new/feces/map_test_strictDiag.obj\", \"rb\")\n",
    "map_test_ag = pickle.load(f)\n",
    "f.close()\n",
    "\n",
    "qual_vecs_ag, embed_ids, embed_seqs = hf.getQualVecs(data_dir, dim = \"100\")\n",
    "\n",
    "otu_train_toembed = hf.matchOtuQual(otu_train_ag, qual_vecs_ag.index.values, embed_seqs)\n",
    "otu_test_toembed = hf.matchOtuQual(otu_test_ag, qual_vecs_ag.index.values, embed_seqs)\n",
    "\n",
    "data_ag = pd.concat([otu_train_toembed, otu_test_toembed])\n",
    "print(\"Tax counts shape: \" + str(data_ag.shape))\n",
    "mapping_ag = pd.concat([map_train_ag, map_test_ag])\n",
    "embedded_ag = pd.DataFrame(np.dot(hf.asinh(data_ag), qual_vecs_ag))\n",
    "embedded_ag.columns = embedded_97.columns.values\n",
    "print(\"Embedded shape: \" + str(embedded_ag.shape))\n",
    "y_ag = mapping_ag[\"IBD\"].values"
   ]
  },
  {
   "cell_type": "code",
   "execution_count": 176,
   "metadata": {},
   "outputs": [],
   "source": [
    "#Embed american gut data\n",
    "embedded_train_ag = pd.DataFrame(np.dot(hf.asinh(otu_train_ag), qual_vecs_ag))\n",
    "embedded_test_ag = pd.DataFrame(np.dot(hf.asinh(otu_test_ag), qual_vecs_ag))\n",
    "y_train_ag = map_train_ag[\"IBD\"].values\n",
    "y_test_ag = map_test_ag[\"IBD\"].values"
   ]
  },
  {
   "cell_type": "code",
   "execution_count": 177,
   "metadata": {},
   "outputs": [
    {
     "data": {
      "text/plain": [
       "(5874, 2436)"
      ]
     },
     "execution_count": 177,
     "metadata": {},
     "output_type": "execute_result"
    }
   ],
   "source": [
    "asvs = [i for i in otu_hut.columns.values if i in otu_train_ag.columns.values]\n",
    "otu_train_ag = otu_train_ag.loc[:, asvs]\n",
    "otu_test_ag = otu_test_ag.loc[:, asvs]\n",
    "otu_train_ag.shape\n",
    "\n",
    "data_ag_reord = pd.concat([otu_train_ag, otu_test_ag])\n",
    "data_ag_reord.columns = otu_train_ag.columns.values\n",
    "data_ag_reord.shape"
   ]
  },
  {
   "cell_type": "code",
   "execution_count": 178,
   "metadata": {},
   "outputs": [
    {
     "data": {
      "text/plain": [
       "(197, 2436)"
      ]
     },
     "execution_count": 178,
     "metadata": {},
     "output_type": "execute_result"
    }
   ],
   "source": [
    "otu_hut = otu_hut.loc[:, asvs]\n",
    "otu_hut.shape"
   ]
  },
  {
   "cell_type": "code",
   "execution_count": 179,
   "metadata": {},
   "outputs": [
    {
     "data": {
      "text/plain": [
       "2436"
      ]
     },
     "execution_count": 179,
     "metadata": {},
     "output_type": "execute_result"
    }
   ],
   "source": [
    "np.sum([i == j for i,j in zip(data_ag_reord.columns.values, otu_hut.columns.values)])"
   ]
  },
  {
   "cell_type": "code",
   "execution_count": 96,
   "metadata": {},
   "outputs": [],
   "source": [
    "def trainHyperParameters(X_train, y_train):\n",
    " #Gets passed a training set, and a 1,0 ground truth vector\n",
    "    aucs = []\n",
    "    precisions = []\n",
    "    f1s = []\n",
    "    \n",
    "    depths = [2, 4, 6, 8]\n",
    "    n_estimators = [50, 95, 140, 185]\n",
    "    weights = [1, 10, 20]\n",
    "    \n",
    "    df = np.zeros((len(depths) * len(n_estimators) * len(weights), 6))\n",
    "    i = 0\n",
    "    for max_depth in depths:\n",
    "        for n_est in n_estimators:\n",
    "            for weight in weights:\n",
    "                print(max_depth, n_est, weight, end = \"\\t\")\n",
    "                auc_crossVal, auc_prec_crossVal, f1_crossVal, _ = hf.crossValPrediction(X_train, y_train,\n",
    "                                                                                        max_depth = max_depth,\n",
    "                                                                                        n_estimators = n_est,\n",
    "                                                                                        weight = weight ,\n",
    "                                                                                        folds = 3)\n",
    "                df[i, :] = [np.mean(auc_crossVal), np.mean(auc_prec_crossVal), np.mean(f1_crossVal), \n",
    "                                   max_depth, n_est, weight]\n",
    "                i += 1\n",
    "   \n",
    "    return(df)\n",
    "\n",
    "def getBestParams(params):\n",
    "    #f1 metric\n",
    "    tmp = params[np.argmax(params[:, 1]), :]\n",
    "    print(tmp)\n",
    "    return([int(i) for i in tmp[3:6]])"
   ]
  },
  {
   "cell_type": "code",
   "execution_count": 50,
   "metadata": {},
   "outputs": [
    {
     "name": "stdout",
     "output_type": "stream",
     "text": [
      "2 50 1\t2 50 10\t2 50 20\t2 95 1\t2 95 10\t2 95 20\t2 140 1\t2 140 10\t2 140 20\t2 185 1\t2 185 10\t2 185 20\t4 50 1\t4 50 10\t4 50 20\t4 95 1\t4 95 10\t4 95 20\t4 140 1\t4 140 10\t4 140 20\t4 185 1\t4 185 10\t4 185 20\t6 50 1\t6 50 10\t6 50 20\t6 95 1\t6 95 10\t6 95 20\t6 140 1\t6 140 10\t6 140 20\t6 185 1\t6 185 10\t6 185 20\t8 50 1\t8 50 10\t8 50 20\t8 95 1\t8 95 10\t8 95 20\t8 140 1\t8 140 10\t8 140 20\t8 185 1\t8 185 10\t8 185 20\t[ 0.78228979  0.52694954  0.57730933  2.         50.         10.        ]\n"
     ]
    },
    {
     "data": {
      "text/plain": [
       "[2, 50, 10]"
      ]
     },
     "execution_count": 50,
     "metadata": {},
     "output_type": "execute_result"
    },
    {
     "data": {
      "image/png": "[encoded data removed]",
      "text/plain": [
       "<Figure size 432x288 with 1 Axes>"
      ]
     },
     "metadata": {},
     "output_type": "display_data"
    }
   ],
   "source": [
    "param_raw = trainHyperParameters(data_ag_reord, y_ag)\n"
   ]
  },
  {
   "cell_type": "code",
   "execution_count": 142,
   "metadata": {},
   "outputs": [
    {
     "name": "stdout",
     "output_type": "stream",
     "text": [
      "[ 0.78228979  0.52694954  0.57730933  2.         50.         10.        ]\n"
     ]
    },
    {
     "data": {
      "text/plain": [
       "[2, 50, 10]"
      ]
     },
     "execution_count": 142,
     "metadata": {},
     "output_type": "execute_result"
    }
   ],
   "source": [
    "param_raw_best = getBestParams(param_raw)\n",
    "param_raw_best"
   ]
  },
  {
   "cell_type": "code",
   "execution_count": 180,
   "metadata": {},
   "outputs": [
    {
     "name": "stdout",
     "output_type": "stream",
     "text": [
      "f1 0.0\n",
      "f2 0.0\n",
      "Accuracy 0.2131979695431472\n",
      "Precision:  0.0\n",
      "Recall:  0.0\n",
      "0 Precision:  0.2131979695431472\n",
      "0 Recall:  1.0\n",
      "[0 0 0 0 0 0 0 0 0 0 0 0 0 0 0 0 0 0 0 0 0 0 0 0 0 0 0 0 0 0 0 0 0 0 0 0 0\n",
      " 0 0 0 0 0 0 0 0 0 0 0 0 0 0 0 0 0 0 0 0 0 0 0 0 0 0 0 0 0 0 0 0 0 0 0 0 0\n",
      " 0 0 0 0 0 0 0 0 0 0 0 0 0 0 0 0 0 0 0 0 0 0 0 0 0 0 0 0 0 0 0 0 0 0 0 0 0\n",
      " 0 0 0 0 0 0 0 0 0 0 0 0 0 0 0 0 0 0 0 0 0 0 0 0 0 0 0 0 0 0 0 0 0 0 0 0 0\n",
      " 0 0 0 0 0 0 0 0 0 0 0 0 0 0 0 0 0 0 0 0 0 0 0 0 0 0 0 0 0 0 0 0 0 0 0 0 0\n",
      " 0 0 0 0 0 0 0 0 0 0 0 0]\n"
     ]
    },
    {
     "data": {
      "text/plain": [
       "<Figure size 1080x360 with 0 Axes>"
      ]
     },
     "metadata": {},
     "output_type": "display_data"
    }
   ],
   "source": [
    "#Predict using ASV tables\n",
    "importlib.reload(hf)\n",
    "from sklearn.metrics import precision_score\n",
    "from sklearn.metrics import recall_score\n",
    "\n",
    "\n",
    "f = plt.figure(figsize=(15,5))\n",
    "m, auc, auc_train, fpr, tpr, prec, f1, f2, feat_imp_embed= hf.predictIBD(X_train = hf.asinh(data_ag_reord), y_train = y_ag, X_test = hf.asinh(otu_hut), y_test = y_hut,\n",
    "                                                                     max_depth = param_raw_best[0],\n",
    "                                                                         n_estimators = param_raw_best[1],\n",
    "                                                                         weight = param_raw_best[2],\n",
    "                                                                     plot= False, plot_pr = False, flipped = False)\n",
    "#f.savefig(\"../figures/curves_ag_half_asin.pdf\")\n",
    "\n",
    "\n",
    "#probs = m.predict_proba(hf.asinh(otu_half))\n",
    "preds = m.predict(hf.asinh(otu_hut))\n",
    "#print(preds)\n",
    "y_flipped = y_hut\n",
    "print(\"f1\", f1)\n",
    "print(\"f2\" , f2)\n",
    "print(\"Accuracy\", np.sum( preds == y_flipped) / len(y_flipped) )\n",
    "print(\"Precision: \", precision_score(y_flipped, preds))\n",
    "print(\"Recall: \", recall_score(y_flipped, preds))\n",
    "print(\"0 Precision: \", precision_score([1 - i for i in y_hut], 1 - preds))\n",
    "print(\"0 Recall: \", recall_score([1 - i for i in y_hut], 1 - preds))\n",
    "print(preds)"
   ]
  },
  {
   "cell_type": "code",
   "execution_count": 284,
   "metadata": {},
   "outputs": [],
   "source": []
  },
  {
   "cell_type": "code",
   "execution_count": 56,
   "metadata": {},
   "outputs": [
    {
     "name": "stdout",
     "output_type": "stream",
     "text": [
      "2 50 1\t2 50 10\t2 50 20\t2 95 1\t2 95 10\t2 95 20\t2 140 1\t2 140 10\t2 140 20\t2 185 1\t2 185 10\t2 185 20\t4 50 1\t4 50 10\t4 50 20\t4 95 1\t4 95 10\t4 95 20\t4 140 1\t4 140 10\t4 140 20\t4 185 1\t4 185 10\t4 185 20\t6 50 1\t6 50 10\t6 50 20\t6 95 1\t6 95 10\t6 95 20\t6 140 1\t6 140 10\t6 140 20\t6 185 1\t6 185 10\t6 185 20\t8 50 1\t8 50 10\t8 50 20\t8 95 1\t8 95 10\t8 95 20\t8 140 1\t8 140 10\t8 140 20\t8 185 1\t8 185 10\t8 185 20\t"
     ]
    },
    {
     "data": {
      "image/png": "[encoded data removed]",
      "text/plain": [
       "<Figure size 432x288 with 1 Axes>"
      ]
     },
     "metadata": {},
     "output_type": "display_data"
    }
   ],
   "source": [
    "param_embed = trainHyperParameters(embedded_ag, y_ag)"
   ]
  },
  {
   "cell_type": "code",
   "execution_count": 144,
   "metadata": {},
   "outputs": [
    {
     "name": "stdout",
     "output_type": "stream",
     "text": [
      "[  0.79824266   0.51181867   0.38219409   4.         185.\n",
      "  20.        ]\n"
     ]
    },
    {
     "data": {
      "text/plain": [
       "[4, 185, 20]"
      ]
     },
     "execution_count": 144,
     "metadata": {},
     "output_type": "execute_result"
    }
   ],
   "source": [
    "param_embed_best = getBestParams(param_embed)\n",
    "param_embed_best"
   ]
  },
  {
   "cell_type": "code",
   "execution_count": 182,
   "metadata": {},
   "outputs": [
    {
     "name": "stdout",
     "output_type": "stream",
     "text": [
      "f1 0.2747252747252747\n",
      "f2 0.19319938176197837\n",
      "Accuracy 0.3299492385786802\n",
      "Precision:  0.9259259259259259\n",
      "Recall:  0.16129032258064516\n",
      "predictions: [0 0 0 1 1 0 0 0 0 0 1 1 0 0 0 0 0 1 1 0 0 1 1 0 0 0 0 0 0 0 1 0 1 0 0 0 0\n",
      " 0 0 1 1 1 0 0 0 0 0 0 0 0 0 0 0 0 0 0 0 0 0 1 0 0 0 0 0 0 0 0 0 0 0 0 0 0\n",
      " 0 0 0 0 0 1 1 0 0 0 0 0 1 1 0 0 0 0 0 0 0 0 0 0 0 0 0 0 0 0 0 0 0 0 0 0 0\n",
      " 0 0 0 0 0 0 0 0 0 0 1 0 0 0 0 0 1 0 0 0 0 0 0 0 0 0 0 0 0 0 0 1 0 0 0 0 0\n",
      " 0 0 1 0 0 1 1 0 0 0 0 0 0 0 1 0 0 0 0 0 0 0 0 0 1 0 0 0 0 0 0 0 0 0 0 0 0\n",
      " 0 0 0 0 1 0 0 0 0 0 0 0]\n"
     ]
    },
    {
     "data": {
      "text/plain": [
       "<Figure size 1080x360 with 0 Axes>"
      ]
     },
     "metadata": {},
     "output_type": "display_data"
    }
   ],
   "source": [
    "#Embedded data: 97id\n",
    "importlib.reload(hf)\n",
    "f = plt.figure(figsize=(15,5))\n",
    "m_embed, auc, auc_train, fpr, tpr, prec, f1, f2, feat_imp_embed = hf.predictIBD(X_train = embedded_ag, y_train = y_ag, X_test = embedded_97, y_test = y_hut, \n",
    "                                                                            max_depth = param_embed_best[0],\n",
    "                                                                                n_estimators = param_embed_best[1],\n",
    "                                                                                weight = param_embed_best[2],\n",
    "                                                                            plot= False, plot_pr = False, flipped = False)\n",
    "\n",
    "preds = m_embed.predict(embedded_97)\n",
    "y_flipped = y_hut\n",
    "\n",
    "\n",
    "print(\"Accuracy\", np.sum(preds == y_flipped) / len(y_flipped) )\n",
    "print(\"Precision: \", precision_score(y_flipped, preds))\n",
    "print(\"Recall: \", recall_score(y_flipped, preds))\n",
    "print(\"f1\", f1)\n",
    "print(\"f2\" , f2)\n",
    "print(\"predictions: \" + str(preds))"
   ]
  },
  {
   "cell_type": "code",
   "execution_count": 181,
   "metadata": {},
   "outputs": [
    {
     "name": "stdout",
     "output_type": "stream",
     "text": [
      "f1 0.2747252747252747\n",
      "f2 0.19319938176197837\n",
      "Accuracy 0.3299492385786802\n",
      "Precision:  0.9259259259259259\n",
      "Recall:  0.16129032258064516\n",
      "predictions: [0 0 0 1 1 0 0 0 0 0 1 1 0 0 0 0 0 1 1 0 0 1 1 0 0 0 0 0 0 0 1 0 1 0 0 0 0\n",
      " 0 0 1 1 1 0 0 0 0 0 0 0 0 0 0 0 0 0 0 0 0 0 1 0 0 0 0 0 0 0 0 0 0 0 0 0 0\n",
      " 0 0 0 0 0 1 1 0 0 0 0 0 1 1 0 0 0 0 0 0 0 0 0 0 0 0 0 0 0 0 0 0 0 0 0 0 0\n",
      " 0 0 0 0 0 0 0 0 0 0 1 0 0 0 0 0 1 0 0 0 0 0 0 0 0 0 0 0 0 0 0 1 0 0 0 0 0\n",
      " 0 0 1 0 0 1 1 0 0 0 0 0 0 0 1 0 0 0 0 0 0 0 0 0 1 0 0 0 0 0 0 0 0 0 0 0 0\n",
      " 0 0 0 0 1 0 0 0 0 0 0 0]\n"
     ]
    },
    {
     "data": {
      "text/plain": [
       "<Figure size 1080x360 with 0 Axes>"
      ]
     },
     "metadata": {},
     "output_type": "display_data"
    }
   ],
   "source": [
    "#Embedded data: 99id\n",
    "importlib.reload(hf)\n",
    "f = plt.figure(figsize=(15,5))\n",
    "m_embed, auc, auc_train, fpr, tpr, prec, f1, f2, feat_imp_embed = hf.predictIBD(X_train = embedded_ag, y_train = y_ag, X_test = embedded_99, y_test = y_hut, \n",
    "                                                                            max_depth = param_embed_best[0],\n",
    "                                                                                n_estimators = param_embed_best[1],\n",
    "                                                                                weight = param_embed_best[2],\n",
    "                                                                            plot= False, plot_pr = False, flipped = False)\n",
    "\n",
    "preds = m_embed.predict(embedded_99)\n",
    "y_flipped = y_hut\n",
    "\n",
    "\n",
    "print(\"Accuracy\", np.sum(preds == y_flipped) / len(y_flipped) )\n",
    "print(\"Precision: \", precision_score(y_flipped, preds))\n",
    "print(\"Recall: \", recall_score(y_flipped, preds))\n",
    "print(\"f1\", f1)\n",
    "print(\"f2\" , f2)\n",
    "print(\"predictions: \" + str(preds))"
   ]
  },
  {
   "cell_type": "code",
   "execution_count": 183,
   "metadata": {},
   "outputs": [
    {
     "name": "stdout",
     "output_type": "stream",
     "text": [
      "f1 0.2651933701657459\n",
      "f2 0.18575851393188855\n",
      "Accuracy 0.3248730964467005\n",
      "Precision:  0.9230769230769231\n",
      "Recall:  0.15483870967741936\n",
      "predictions: [0 0 0 1 1 0 0 0 0 0 1 1 0 0 0 0 0 1 1 0 0 1 1 0 0 0 0 0 0 0 1 0 1 0 0 0 0\n",
      " 0 0 1 1 1 0 0 0 0 0 0 0 0 0 0 0 0 0 0 0 0 0 1 0 0 0 0 0 0 0 0 0 0 0 0 0 0\n",
      " 0 0 0 0 0 1 1 0 0 0 0 0 1 0 0 0 0 0 0 0 0 0 0 0 0 0 0 0 0 0 0 0 0 0 0 0 0\n",
      " 0 0 0 0 0 0 0 0 0 0 1 0 0 0 0 0 1 0 0 0 0 0 0 0 0 0 0 0 0 0 0 1 0 0 0 0 0\n",
      " 0 0 1 0 0 1 1 0 0 0 0 0 0 0 1 0 0 0 0 0 0 0 0 0 1 0 0 0 0 0 0 0 0 0 0 0 0\n",
      " 0 0 0 0 1 0 0 0 0 0 0 0]\n",
      "[False False False  True  True False False False False False  True  True\n",
      " False False False False False  True  True False False  True  True False\n",
      " False False  True  True False False  True False  True False False False\n",
      " False False False  True  True  True  True  True False False  True  True\n",
      " False False  True False False False  True  True False False  True False\n",
      " False False False False  True  True  True  True  True  True False False\n",
      " False False  True  True False False False  True  True False False False\n",
      " False False  True False  True  True  True  True False  True False  True\n",
      "  True  True  True False False False  True False False  True False False\n",
      " False False False False False False False  True  True False False  True\n",
      "  True False False False False False False  True  True  True  True  True\n",
      " False False False False False  True  True False False False  True False\n",
      " False False False False False False  True False False  True  True False\n",
      " False False False False False  True  True False False False False False\n",
      " False False False False  True False False False False False False False\n",
      " False False False False False False False False False  True False False\n",
      " False False False False False]\n",
      "[True, True, True, True, True, True, True, True, True, True, True, True, True, True, True, True, True, True, True, True, True, True, True, True, True, True, False, False, True, True, True, True, True, True, True, True, True, True, True, True, True, True, False, False, True, True, False, False, True, True, False, True, True, True, False, False, True, True, False, False, True, True, True, True, False, False, False, False, False, False, True, True, True, True, False, False, True, True, True, True, True, True, True, True, True, True, True, True, False, False, False, False, True, False, True, False, False, False, False, True, True, True, False, True, True, False, True, True, True, True, True, True, True, True, True, False, False, True, True, False, False, False, True, True, True, True, True, True, False, False, False, False, True, True, True, True, True, False, False, True, True, True, True, True, True, True, True, True, True, True, True, True, True, True, True, True, True, True, True, True, True, False, True, True, True, True, True, True, True, True, True, True, True, True, True, True, True, True, True, True, True, True, True, True, True, True, True, True, True, True, True, True, True, True, True, True, True]\n"
     ]
    },
    {
     "data": {
      "text/plain": [
       "<Figure size 1080x360 with 0 Axes>"
      ]
     },
     "metadata": {},
     "output_type": "display_data"
    }
   ],
   "source": [
    "#Embedded data: 100id\n",
    "importlib.reload(hf)\n",
    "f = plt.figure(figsize=(15,5))\n",
    "m_embed, auc, auc_train, fpr, tpr, prec, f1, f2, feat_imp_embed = hf.predictIBD(X_train = embedded_ag, y_train = y_ag, X_test = embedded_100, y_test = y_hut, \n",
    "                                                                            max_depth = param_embed_best[0],\n",
    "                                                                                n_estimators = param_embed_best[1],\n",
    "                                                                                weight = param_embed_best[2],\n",
    "                                                                            plot= False, plot_pr = False, flipped = False)\n",
    "\n",
    "preds = m_embed.predict(embedded_100)\n",
    "y_flipped = y_hut\n",
    "\n",
    "\n",
    "print(\"Accuracy\", np.sum(preds == y_flipped) / len(y_flipped) )\n",
    "print(\"Precision: \", precision_score(y_flipped, preds))\n",
    "print(\"Recall: \", recall_score(y_flipped, preds))\n",
    "print(\"f1\", f1)\n",
    "print(\"f2\" , f2)\n",
    "print(\"predictions: \" + str(preds))\n"
   ]
  }
 ],
 "metadata": {
  "kernelspec": {
   "display_name": "Python 3",
   "language": "python",
   "name": "python3"
  },
  "language_info": {
   "codemirror_mode": {
    "name": "ipython",
    "version": 3
   },
   "file_extension": ".py",
   "mimetype": "text/x-python",
   "name": "python",
   "nbconvert_exporter": "python",
   "pygments_lexer": "ipython3",
   "version": "3.8.5"
  }
 },
 "nbformat": 4,
 "nbformat_minor": 2
}
