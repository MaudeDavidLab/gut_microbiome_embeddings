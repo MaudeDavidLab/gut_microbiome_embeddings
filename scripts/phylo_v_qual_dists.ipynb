{
 "cells": [
  {
   "cell_type": "code",
   "execution_count": 1,
   "metadata": {},
   "outputs": [],
   "source": [
    "import numpy as np\n",
    "from collections import Counter\n",
    "import matplotlib.pyplot as plt\n",
    "import pandas as pd\n",
    "import re\n",
    "import pickle\n",
    "import matplotlib as mpl"
   ]
  },
  {
   "cell_type": "code",
   "execution_count": 2,
   "metadata": {},
   "outputs": [],
   "source": [
    "pdm = pd.read_csv(\"C:/Users/ctata/Documents/Lab/quality_vectors_git/data/dists/tree_pdm_filter.07.csv\", index_col = 0)"
   ]
  },
  {
   "cell_type": "code",
   "execution_count": 3,
   "metadata": {},
   "outputs": [
    {
     "data": {
      "text/plain": [
       "(26726, 26726)"
      ]
     },
     "execution_count": 3,
     "metadata": {},
     "output_type": "execute_result"
    }
   ],
   "source": [
    "pdm.shape"
   ]
  },
  {
   "cell_type": "markdown",
   "metadata": {},
   "source": [
    "## Calculate distances in embedding space"
   ]
  },
  {
   "cell_type": "code",
   "execution_count": 4,
   "metadata": {},
   "outputs": [],
   "source": [
    "#qdm = pd.read_csv(\"C:/Users/ctata/Documents/Lab/quality_vectors_git/data/dists/embed_.07_100dim_dists.csv\", index_col = 0)\n",
    "\n",
    "#Faster to recalculate instead of reading in large csv\n",
    "qual_vec_file = \"C:/Users/ctata/Documents/Lab/quality_vectors_git/data/embed/embed_.07_100dim.txt\"\n",
    "qual_vecs = pd.read_csv(qual_vec_file, sep = \" \", index_col = 0, dtype = {0:str})\n",
    "from sklearn.metrics import pairwise_distances\n",
    "qdm = pairwise_distances(qual_vecs, metric = \"cosine\")\n",
    "\n",
    "qdm_pd = pd.DataFrame(qdm)\n",
    "qdm_pd.columns = qual_vecs.index\n",
    "qdm_pd.index = qual_vecs.index"
   ]
  },
  {
   "cell_type": "markdown",
   "metadata": {},
   "source": [
    "## Convert back to full sequences to match"
   ]
  },
  {
   "cell_type": "code",
   "execution_count": 5,
   "metadata": {},
   "outputs": [],
   "source": [
    "fasta_pdm = pd.read_csv(\"C:/Users/ctata/Documents/Lab/quality_vectors_git/data/AG_new/filter_.07/seqs_filter.07_otu.fasta\", header = None)\n",
    "\n",
    "headers_pdm = fasta_pdm.iloc[[i for i in range(0, fasta_pdm.shape[0], 2)], :]\n",
    "seqs_pdm = fasta_pdm.iloc[[i for i in range(1, fasta_pdm.shape[0], 2)], :]\n",
    "headers_pdm = headers_pdm.values\n",
    "seqs_pdm = seqs_pdm.values\n",
    "headers_pdm = [re.sub(\">\", \"\", i) for i in headers_pdm.flatten()]\n",
    "seqs_pdm = seqs_pdm.flatten()"
   ]
  },
  {
   "cell_type": "code",
   "execution_count": 6,
   "metadata": {},
   "outputs": [
    {
     "data": {
      "text/html": [
       "<div>\n",
       "<style scoped>\n",
       "    .dataframe tbody tr th:only-of-type {\n",
       "        vertical-align: middle;\n",
       "    }\n",
       "\n",
       "    .dataframe tbody tr th {\n",
       "        vertical-align: top;\n",
       "    }\n",
       "\n",
       "    .dataframe thead th {\n",
       "        text-align: right;\n",
       "    }\n",
       "</style>\n",
       "<table border=\"1\" class=\"dataframe\">\n",
       "  <thead>\n",
       "    <tr style=\"text-align: right;\">\n",
       "      <th></th>\n",
       "      <th>TACGGAGGGTGCAAGCGTTAATCGGAATTACTGGGCGTAAAGCGCACGCAGGCGGTTTGTTAAGTCAGATGTGAAATCCCCGGGCTCAACCTGGGAACTGCATCTGATACTGGCAAGCTTGAGTCTCGTAGAGGGGGGTA</th>\n",
       "      <th>TACGGAGGATCCGAGCGTTATCCGGATTTATTGGGTTTAAAGGGAGCGTAGATGGATGTTTAAGTCAGTTGTGAAAGTTTGCGGCTCAACCGTAAAATTGCAGTTGATACTGGATATCTTGAGTGCAGTTGAGGCAGGCG</th>\n",
       "      <th>TACGGAGGATCCGAGCGTTATCCGGATTTATTGGGTTTAAAGGGAGCGTAGGCGGACGCTTAAGTCAGTTGTGAAAGTTTGCGGCTCAACCGTAAAATTGCAGTTGATACTGGGTGTCTTGAGTACAGTAGAGGCAGGCG</th>\n",
       "      <th>AACGTAGGTCACAAGCGTTGTCCGGAATTACTGGGTGTAAAGGGAGCGCAGGCGGGAAGACAAGTTGGAAGTGAAATCTATGGGCTCAACCCATAAACTGCTTTCAAAACTGTTTTTCTTGAGTAGTGCAGAGGTAGGCG</th>\n",
       "      <th>TACGGAGGATCCGAGCGTTATCCGGATTTATTGGGTTTAAAGGGAGCGTAGATGGATGTTTAAGTCAGTTGTGAAAGTTTGCGGCTCAACCGTAAAATTGCAGTTGATACTGGATGTCTTGAGTGCAGTTGAGGCAGGCG</th>\n",
       "    </tr>\n",
       "  </thead>\n",
       "  <tbody>\n",
       "    <tr>\n",
       "      <th>TACGGAGGGTGCAAGCGTTAATCGGAATTACTGGGCGTAAAGCGCACGCAGGCGGTTTGTTAAGTCAGATGTGAAATCCCCGGGCTCAACCTGGGAACTGCATCTGATACTGGCAAGCTTGAGTCTCGTAGAGGGGGGTA</th>\n",
       "      <td>0.000000</td>\n",
       "      <td>0.002635</td>\n",
       "      <td>0.002652</td>\n",
       "      <td>0.002336</td>\n",
       "      <td>0.002642</td>\n",
       "    </tr>\n",
       "    <tr>\n",
       "      <th>TACGGAGGATCCGAGCGTTATCCGGATTTATTGGGTTTAAAGGGAGCGTAGATGGATGTTTAAGTCAGTTGTGAAAGTTTGCGGCTCAACCGTAAAATTGCAGTTGATACTGGATATCTTGAGTGCAGTTGAGGCAGGCG</th>\n",
       "      <td>0.002635</td>\n",
       "      <td>0.000000</td>\n",
       "      <td>0.000238</td>\n",
       "      <td>0.003673</td>\n",
       "      <td>0.000036</td>\n",
       "    </tr>\n",
       "    <tr>\n",
       "      <th>TACGGAGGATCCGAGCGTTATCCGGATTTATTGGGTTTAAAGGGAGCGTAGGCGGACGCTTAAGTCAGTTGTGAAAGTTTGCGGCTCAACCGTAAAATTGCAGTTGATACTGGGTGTCTTGAGTACAGTAGAGGCAGGCG</th>\n",
       "      <td>0.002652</td>\n",
       "      <td>0.000238</td>\n",
       "      <td>0.000000</td>\n",
       "      <td>0.003690</td>\n",
       "      <td>0.000245</td>\n",
       "    </tr>\n",
       "    <tr>\n",
       "      <th>AACGTAGGTCACAAGCGTTGTCCGGAATTACTGGGTGTAAAGGGAGCGCAGGCGGGAAGACAAGTTGGAAGTGAAATCTATGGGCTCAACCCATAAACTGCTTTCAAAACTGTTTTTCTTGAGTAGTGCAGAGGTAGGCG</th>\n",
       "      <td>0.002336</td>\n",
       "      <td>0.003673</td>\n",
       "      <td>0.003690</td>\n",
       "      <td>0.000000</td>\n",
       "      <td>0.003680</td>\n",
       "    </tr>\n",
       "    <tr>\n",
       "      <th>TACGGAGGATCCGAGCGTTATCCGGATTTATTGGGTTTAAAGGGAGCGTAGATGGATGTTTAAGTCAGTTGTGAAAGTTTGCGGCTCAACCGTAAAATTGCAGTTGATACTGGATGTCTTGAGTGCAGTTGAGGCAGGCG</th>\n",
       "      <td>0.002642</td>\n",
       "      <td>0.000036</td>\n",
       "      <td>0.000245</td>\n",
       "      <td>0.003680</td>\n",
       "      <td>0.000000</td>\n",
       "    </tr>\n",
       "  </tbody>\n",
       "</table>\n",
       "</div>"
      ],
      "text/plain": [
       "                                                    TACGGAGGGTGCAAGCGTTAATCGGAATTACTGGGCGTAAAGCGCACGCAGGCGGTTTGTTAAGTCAGATGTGAAATCCCCGGGCTCAACCTGGGAACTGCATCTGATACTGGCAAGCTTGAGTCTCGTAGAGGGGGGTA  \\\n",
       "TACGGAGGGTGCAAGCGTTAATCGGAATTACTGGGCGTAAAGCGCAC...                                           0.000000                                                                                              \n",
       "TACGGAGGATCCGAGCGTTATCCGGATTTATTGGGTTTAAAGGGAGC...                                           0.002635                                                                                              \n",
       "TACGGAGGATCCGAGCGTTATCCGGATTTATTGGGTTTAAAGGGAGC...                                           0.002652                                                                                              \n",
       "AACGTAGGTCACAAGCGTTGTCCGGAATTACTGGGTGTAAAGGGAGC...                                           0.002336                                                                                              \n",
       "TACGGAGGATCCGAGCGTTATCCGGATTTATTGGGTTTAAAGGGAGC...                                           0.002642                                                                                              \n",
       "\n",
       "                                                    TACGGAGGATCCGAGCGTTATCCGGATTTATTGGGTTTAAAGGGAGCGTAGATGGATGTTTAAGTCAGTTGTGAAAGTTTGCGGCTCAACCGTAAAATTGCAGTTGATACTGGATATCTTGAGTGCAGTTGAGGCAGGCG  \\\n",
       "TACGGAGGGTGCAAGCGTTAATCGGAATTACTGGGCGTAAAGCGCAC...                                           0.002635                                                                                              \n",
       "TACGGAGGATCCGAGCGTTATCCGGATTTATTGGGTTTAAAGGGAGC...                                           0.000000                                                                                              \n",
       "TACGGAGGATCCGAGCGTTATCCGGATTTATTGGGTTTAAAGGGAGC...                                           0.000238                                                                                              \n",
       "AACGTAGGTCACAAGCGTTGTCCGGAATTACTGGGTGTAAAGGGAGC...                                           0.003673                                                                                              \n",
       "TACGGAGGATCCGAGCGTTATCCGGATTTATTGGGTTTAAAGGGAGC...                                           0.000036                                                                                              \n",
       "\n",
       "                                                    TACGGAGGATCCGAGCGTTATCCGGATTTATTGGGTTTAAAGGGAGCGTAGGCGGACGCTTAAGTCAGTTGTGAAAGTTTGCGGCTCAACCGTAAAATTGCAGTTGATACTGGGTGTCTTGAGTACAGTAGAGGCAGGCG  \\\n",
       "TACGGAGGGTGCAAGCGTTAATCGGAATTACTGGGCGTAAAGCGCAC...                                           0.002652                                                                                              \n",
       "TACGGAGGATCCGAGCGTTATCCGGATTTATTGGGTTTAAAGGGAGC...                                           0.000238                                                                                              \n",
       "TACGGAGGATCCGAGCGTTATCCGGATTTATTGGGTTTAAAGGGAGC...                                           0.000000                                                                                              \n",
       "AACGTAGGTCACAAGCGTTGTCCGGAATTACTGGGTGTAAAGGGAGC...                                           0.003690                                                                                              \n",
       "TACGGAGGATCCGAGCGTTATCCGGATTTATTGGGTTTAAAGGGAGC...                                           0.000245                                                                                              \n",
       "\n",
       "                                                    AACGTAGGTCACAAGCGTTGTCCGGAATTACTGGGTGTAAAGGGAGCGCAGGCGGGAAGACAAGTTGGAAGTGAAATCTATGGGCTCAACCCATAAACTGCTTTCAAAACTGTTTTTCTTGAGTAGTGCAGAGGTAGGCG  \\\n",
       "TACGGAGGGTGCAAGCGTTAATCGGAATTACTGGGCGTAAAGCGCAC...                                           0.002336                                                                                              \n",
       "TACGGAGGATCCGAGCGTTATCCGGATTTATTGGGTTTAAAGGGAGC...                                           0.003673                                                                                              \n",
       "TACGGAGGATCCGAGCGTTATCCGGATTTATTGGGTTTAAAGGGAGC...                                           0.003690                                                                                              \n",
       "AACGTAGGTCACAAGCGTTGTCCGGAATTACTGGGTGTAAAGGGAGC...                                           0.000000                                                                                              \n",
       "TACGGAGGATCCGAGCGTTATCCGGATTTATTGGGTTTAAAGGGAGC...                                           0.003680                                                                                              \n",
       "\n",
       "                                                    TACGGAGGATCCGAGCGTTATCCGGATTTATTGGGTTTAAAGGGAGCGTAGATGGATGTTTAAGTCAGTTGTGAAAGTTTGCGGCTCAACCGTAAAATTGCAGTTGATACTGGATGTCTTGAGTGCAGTTGAGGCAGGCG  \n",
       "TACGGAGGGTGCAAGCGTTAATCGGAATTACTGGGCGTAAAGCGCAC...                                           0.002642                                                                                             \n",
       "TACGGAGGATCCGAGCGTTATCCGGATTTATTGGGTTTAAAGGGAGC...                                           0.000036                                                                                             \n",
       "TACGGAGGATCCGAGCGTTATCCGGATTTATTGGGTTTAAAGGGAGC...                                           0.000245                                                                                             \n",
       "AACGTAGGTCACAAGCGTTGTCCGGAATTACTGGGTGTAAAGGGAGC...                                           0.003680                                                                                             \n",
       "TACGGAGGATCCGAGCGTTATCCGGATTTATTGGGTTTAAAGGGAGC...                                           0.000000                                                                                             "
      ]
     },
     "execution_count": 6,
     "metadata": {},
     "output_type": "execute_result"
    }
   ],
   "source": [
    "pdm_ord = pdm.loc[headers_pdm, headers_pdm]\n",
    "pdm_ord.index = seqs_pdm\n",
    "pdm_ord.columns = seqs_pdm\n",
    "pdm_ord.iloc[0:5, 0:5]"
   ]
  },
  {
   "cell_type": "code",
   "execution_count": 7,
   "metadata": {},
   "outputs": [],
   "source": [
    "fasta_qdm = pd.read_csv(\"C:/Users/ctata/Documents/Lab/quality_vectors_git/data/embed/seqs_.07_embed.fasta\", header = None)\n",
    "headers_qdm = fasta_qdm.iloc[[i for i in range(0, fasta_qdm.shape[0], 2)], :]\n",
    "seqs_qdm = fasta_qdm.iloc[[i for i in range(1, fasta_qdm.shape[0], 2)], :]\n",
    "headers_qdm = headers_qdm.values\n",
    "seqs_qdm = seqs_qdm.values\n",
    "headers_qdm = [re.sub(\">\", \"\", i) for i in headers_qdm.flatten()]\n",
    "seqs_qdm = seqs_qdm.flatten()"
   ]
  },
  {
   "cell_type": "code",
   "execution_count": 8,
   "metadata": {},
   "outputs": [],
   "source": [
    "qdm_ord = qdm_pd.loc[headers_qdm, headers_qdm]\n",
    "qdm_ord.index = seqs_qdm\n",
    "qdm_ord.columns = seqs_qdm"
   ]
  },
  {
   "cell_type": "code",
   "execution_count": 9,
   "metadata": {},
   "outputs": [
    {
     "name": "stdout",
     "output_type": "stream",
     "text": [
      "(26726, 26726)\n"
     ]
    }
   ],
   "source": [
    "qdm_ord = qdm_ord.iloc[0:-1, 0:-1]\n",
    "print(qdm_ord.shape)"
   ]
  },
  {
   "cell_type": "code",
   "execution_count": 10,
   "metadata": {},
   "outputs": [],
   "source": [
    "#We don't want to count self-comparisons\n",
    "#for i in range(pdm_ord.shape[0]):\n",
    "#    qdm_ord.iloc[i,i] = None\n",
    "#    pdm_ord.iloc[i,i] = None"
   ]
  },
  {
   "cell_type": "markdown",
   "metadata": {},
   "source": [
    "## Sort to make sure all sequences are matching"
   ]
  },
  {
   "cell_type": "code",
   "execution_count": 11,
   "metadata": {},
   "outputs": [],
   "source": [
    "pdm_row = pdm_ord.sort_index(axis = 0)\n",
    "pdm_both = pdm_row.sort_index(axis = 1)"
   ]
  },
  {
   "cell_type": "code",
   "execution_count": 12,
   "metadata": {},
   "outputs": [],
   "source": [
    "qdm_row = qdm_ord.sort_index(axis = 0)\n",
    "qdm_both = qdm_row.sort_index(axis = 1)"
   ]
  },
  {
   "cell_type": "code",
   "execution_count": 13,
   "metadata": {},
   "outputs": [
    {
     "data": {
      "text/plain": [
       "26726"
      ]
     },
     "execution_count": 13,
     "metadata": {},
     "output_type": "execute_result"
    }
   ],
   "source": [
    "#Indexes should match\n",
    "np.sum([i == j for i,j in zip(qdm_both.index.values, pdm_both.index.values)])"
   ]
  },
  {
   "cell_type": "markdown",
   "metadata": {},
   "source": [
    "## Mantel test to compare the two distance matrices"
   ]
  },
  {
   "cell_type": "code",
   "execution_count": 19,
   "metadata": {},
   "outputs": [],
   "source": [
    "from skbio.stats.distance import mantel"
   ]
  },
  {
   "cell_type": "code",
   "execution_count": 43,
   "metadata": {},
   "outputs": [
    {
     "name": "stdout",
     "output_type": "stream",
     "text": [
      "0.12259704495321906\n",
      "0.001\n"
     ]
    }
   ],
   "source": [
    "man_coeff, man_pval, _ = mantel(qdm_both, pdm_both)\n",
    "print(man_coeff)\n",
    "print(man_pval)"
   ]
  },
  {
   "cell_type": "markdown",
   "metadata": {},
   "source": [
    "## Create matrix for contour map"
   ]
  },
  {
   "cell_type": "code",
   "execution_count": 25,
   "metadata": {},
   "outputs": [
    {
     "name": "stdout",
     "output_type": "stream",
     "text": [
      "0\n",
      "1\n",
      "2\n",
      "3\n",
      "4\n",
      "5\n",
      "6\n",
      "7\n",
      "8\n",
      "9\n",
      "10\n",
      "11\n",
      "12\n",
      "13\n",
      "14\n",
      "15\n",
      "16\n",
      "17\n",
      "18\n",
      "19\n",
      "20\n",
      "21\n",
      "22\n",
      "23\n",
      "24\n",
      "25\n"
     ]
    }
   ],
   "source": [
    "ranges = range(26)\n",
    "bin_size = 100\n",
    "z = np.zeros((bin_size+1, bin_size+1))\n",
    "for r in ranges:\n",
    "    i = 1000\n",
    "    print(r)\n",
    "    qdm_small = qdm_both.iloc[r*i : (r+1)*i, :]\n",
    "    pdm_small = pdm_both.iloc[r*i : (r+1)*i, :]\n",
    "    \n",
    "    x_small = np.max(np.max(qdm_small))\n",
    "    y_small = np.max(np.max(pdm_small))\n",
    "\n",
    "    bins_x = np.linspace(0, x_small, bin_size)\n",
    "    bins_y = np.linspace(0, y_small, bin_size)\n",
    "    x = np.digitize(qdm_small, bins_x)\n",
    "    y = np.digitize(pdm_small, bins_y)\n",
    "\n",
    "    for i in range(x.shape[0]):\n",
    "        for j in range(x.shape[1]):\n",
    "            z[y[i,j], x[i,j]] += 1"
   ]
  },
  {
   "cell_type": "code",
   "execution_count": 28,
   "metadata": {},
   "outputs": [],
   "source": [
    "f = open(\"C:/Users/ctata/Documents/Lab/quality_vectors_git/data/dists/contour_map_mat2.obj\", \"wb\")\n",
    "pickle.dump(z, f)\n",
    "f.close()"
   ]
  },
  {
   "cell_type": "code",
   "execution_count": 29,
   "metadata": {},
   "outputs": [],
   "source": [
    "\n",
    "def plotLegend(scale, ax, cmap):\n",
    "    norm = mpl.colors.Normalize(vmin=min(scale), vmax=max(scale))\n",
    "    cb1 = mpl.colorbar.ColorbarBase(ax, cmap=cmap,\n",
    "                                    norm = norm,\n",
    "                                    orientation='vertical')"
   ]
  },
  {
   "cell_type": "markdown",
   "metadata": {},
   "source": [
    "## Plot contour map"
   ]
  },
  {
   "cell_type": "code",
   "execution_count": 30,
   "metadata": {},
   "outputs": [
    {
     "data": {
      "image/png": "[encoded data removed]",
      "text/plain": [
       "<Figure size 720x360 with 2 Axes>"
      ]
     },
     "metadata": {},
     "output_type": "display_data"
    }
   ],
   "source": [
    "max_val = np.max(z)\n",
    "scale = np.arange(1, max_val, max_val / 15)\n",
    "cmap = 'viridis'\n",
    "fig, (ax1, ax2) = plt.subplots(nrows = 1, ncols = 2, figsize=(10, 5), gridspec_kw = {'width_ratios':[20, 1]})\n",
    "ax1.contour(z, levels = scale, cmap =  cmap)\n",
    "x_range = range(len(bins_x))\n",
    "y_range = range(len(bins_y))\n",
    "ax1.set_xticks(x_range[0::10])\n",
    "ax1.set_yticks(y_range[0::10])\n",
    "ax1.set_yticklabels([round(i, 3) for i in bins_y[0::10]])\n",
    "ax1.set_xticklabels([round(i, 3) for i in bins_x[0::10]])\n",
    "plotLegend(scale, ax2, cmap)"
   ]
  },
  {
   "cell_type": "markdown",
   "metadata": {},
   "source": [
    "## Correlation test"
   ]
  },
  {
   "cell_type": "code",
   "execution_count": 44,
   "metadata": {},
   "outputs": [
    {
     "data": {
      "text/plain": [
       "SpearmanrResult(correlation=0.3257246319149399, pvalue=0.0)"
      ]
     },
     "execution_count": 44,
     "metadata": {},
     "output_type": "execute_result"
    }
   ],
   "source": [
    "i = 1000\n",
    "pdm_vec = pdm_both.iloc[0:i, 0:i].values.flatten()\n",
    "qdm_vec = qdm_both.iloc[0:i, 0:i].values.flatten()\n",
    "spearmanr(pdm_vec, qdm_vec, nan_policy = \"omit\")"
   ]
  },
  {
   "cell_type": "markdown",
   "metadata": {},
   "source": [
    "## CCA using phylogenetic and embedding distances"
   ]
  }
 ],
 "metadata": {
  "kernelspec": {
   "display_name": "Python 3",
   "language": "python",
   "name": "python3"
  },
  "language_info": {
   "codemirror_mode": {
    "name": "ipython",
    "version": 3
   },
   "file_extension": ".py",
   "mimetype": "text/x-python",
   "name": "python",
   "nbconvert_exporter": "python",
   "pygments_lexer": "ipython3",
   "version": "3.6.4"
  }
 },
 "nbformat": 4,
 "nbformat_minor": 2
}
